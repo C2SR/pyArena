{
 "cells": [
  {
   "cell_type": "code",
   "execution_count": null,
   "metadata": {},
   "outputs": [],
   "source": [
    "# test the logging functionality of pyLog\n",
    "import numpy as np\n",
    "from pyArena import pyLog\n",
    "\n",
    "kwargsLog = {'nx': 3, 'nu': 2}\n",
    "\n",
    "sysLog  = pyLog(**kwargsLog)\n",
    "\n",
    "print('-----Initialization of pyLog-----')\n",
    "print('1. State: {}'.format(sysLog.stateTrajectory))\n",
    "print('2. Input: {}'.format(sysLog.inputTrajectory))\n",
    "print('3. Time: {}'.format(sysLog.time))\n",
    "\n",
    "xTemp = np.array([1,2,3])\n",
    "uTemp = np.array([10,20])\n",
    "tTemp = 0\n",
    "\n",
    "sysLog.updateLog(tTemp,xTemp,uTemp)\n",
    "\n",
    "print('-----First update of pyLog-----')\n",
    "print('1. State: {}'.format(sysLog.stateTrajectory))\n",
    "print('2. Input: {}'.format(sysLog.inputTrajectory))\n",
    "print('3. Time: {}'.format(sysLog.time))\n",
    "\n",
    "xTemp = np.array([10,20,30])\n",
    "uTemp = np.array([100,200])\n",
    "tTemp = 1\n",
    "\n",
    "sysLog.updateLog(tTemp,xTemp,uTemp)\n",
    "\n",
    "print('-----Second update of pyLog-----')\n",
    "print('1. State: {}'.format(sysLog.stateTrajectory))\n",
    "print('2. Input: {}'.format(sysLog.inputTrajectory))\n",
    "print('3. Time: {}'.format(sysLog.time))\n",
    "\n",
    "sysLog.reshapeLog()\n",
    "\n",
    "print('-----After reshape of pyLog-----')\n",
    "print('1. State: {}'.format(sysLog.stateTrajectory))\n",
    "print('2. Input: {}'.format(sysLog.inputTrajectory))\n",
    "print('3. Time: {}'.format(sysLog.time))"
   ]
  },
  {
   "cell_type": "code",
   "execution_count": 1,
   "metadata": {},
   "outputs": [],
   "source": [
    "# test the functionality of pyArena\n",
    "import numpy as np\n",
    "from pyArena import pyArena\n",
    "\n",
    "# Specify simulation parameters\n",
    "nx = 4 \n",
    "nu = 3\n",
    "Tsim = 100\n",
    "dt = 0.05\n",
    "K = np.eye(2)\n",
    "eps = np.array([0.1, 0])\n",
    "vd = 1\n",
    "\n",
    "# Specify desired path\n",
    "radius = 10\n",
    "a = 0.1\n",
    "\n",
    "pd = lambda l: np.array([radius*np.sin(a*l), radius*np.cos(a*l)])\n",
    "\n",
    "# TODO: Learn Symbolic operations in Python\n",
    "pdD = lambda l: np.array([a*radius*np.cos(a*l), -a*radius*np.sin(a*l)])\n",
    "\n",
    "## Create a path following controller class\n",
    "class PathFollowing:\n",
    "    def __init__(self, **kwargs):\n",
    "        self.funpd = kwargs['pd']\n",
    "        self.funpdD = kwargs['pdD']\n",
    "        self.K = kwargs['gain']\n",
    "        self.eps = kwargs['eps']\n",
    "        self.vd = kwargs['vd']\n",
    "        self.invDelta = np.linalg.pinv(np.array([[1.0, eps[1]], [0.0, eps[0]]]))\n",
    "    \n",
    "    def computeInput(self, t, x):\n",
    "        p = x[0:1]\n",
    "        theta = x[2]\n",
    "        gamma = x[3]\n",
    "        \n",
    "        pd = self.funpd(gamma)\n",
    "        pdDot = self.funpdD(gamma)*self.vd\n",
    "        \n",
    "        R = np.array([[np.cos(theta), np.sin(theta)], [-np.sin(theta), np.cos(theta)]])\n",
    "        \n",
    "        e = R.T@(p - pd) + eps\n",
    "    \n",
    "        u_ff = R.T@pdDot\n",
    "    \n",
    "        u = -K@e + u_ff\n",
    "    \n",
    "        g_err = 0 # TODO: make the modifications\n",
    "    \n",
    "        gamma_dot = vd + g_err\n",
    "        \n",
    "        return np.append(u, gamma_dot)\n",
    "\n",
    "\n",
    "kwargsController = {'pd': pd, 'pdD': pdD, 'gain': K, 'eps': eps, 'vd': vd}\n",
    "controller = PathFollowing(**kwargsController)\n",
    "        "
   ]
  },
  {
   "cell_type": "code",
   "execution_count": 2,
   "metadata": {},
   "outputs": [],
   "source": [
    "# create a system class\n",
    "class DynamicalSystem:\n",
    "    def __init__(self, **kwargs):\n",
    "        self.nx = kwargs['nx']\n",
    "        self.nu = kwargs['nu']\n",
    "        self.stateEquation = kwargs['stateEquation']\n",
    "        self.isMeasurementEquation = False\n",
    "        self.initialCondition = kwargs['initialCondition']\n",
    "        self.controller = kwargs['controller']\n",
    "\n",
    "# Initial Condition\n",
    "x_init = np.array([10.0, 0.0, 0.0, 0.0])\n",
    "\n",
    "# Specify robot kinematics\n",
    "def unicycle(t, x, u):\n",
    "    return np.array([u[0]*np.cos(x[2]), u[0]*np.sin(x[2]), u[1], u[2]])\n",
    "\n",
    "kwargsSystem = {'nx':nx, 'nu':nu,\\\n",
    "                'stateEquation': lambda t,x,u: unicycle(t,x,u),\\\n",
    "                'initialCondition': x_init, 'controller': controller}\n",
    "\n",
    "system = DynamicalSystem(**kwargsSystem)\n"
   ]
  },
  {
   "cell_type": "code",
   "execution_count": 3,
   "metadata": {},
   "outputs": [],
   "source": [
    "kwargsSimulation = {'system': system, 'simTime': Tsim, 'dt': dt}\n",
    "pyA = pyArena(**kwargsSimulation)\n",
    "\n",
    "dataLog = pyA.run()\n"
   ]
  },
  {
   "cell_type": "code",
   "execution_count": 5,
   "metadata": {},
   "outputs": [
    {
     "data": {
      "image/png": "[encoded data removed]",
      "text/plain": [
       "<Figure size 432x288 with 1 Axes>"
      ]
     },
     "metadata": {
      "needs_background": "light"
     },
     "output_type": "display_data"
    }
   ],
   "source": [
    "## Plot data\n",
    "import matplotlib.pyplot as plt\n",
    "\n",
    "pdVec = pd(np.linspace(0,100,1000))\n",
    "plt.plot(pdVec[0,:], pdVec[1,:])\n",
    "plt.plot(dataLog.stateTrajectory[:,0], dataLog.stateTrajectory[:,1])\n",
    "plt.show()\n",
    "\n",
    "#plt.plot(dataLog.time, pd)\n",
    "#plt.plot(dataLog.time, dataLog.stateTrajectory[:,1])\n",
    "\n"
   ]
  },
  {
   "cell_type": "code",
   "execution_count": null,
   "metadata": {},
   "outputs": [],
   "source": []
  }
 ],
 "metadata": {
  "kernelspec": {
   "display_name": "Python 3",
   "language": "python",
   "name": "python3"
  },
  "language_info": {
   "codemirror_mode": {
    "name": "ipython",
    "version": 3
   },
   "file_extension": ".py",
   "mimetype": "text/x-python",
   "name": "python",
   "nbconvert_exporter": "python",
   "pygments_lexer": "ipython3",
   "version": "3.7.0"
  }
 },
 "nbformat": 4,
 "nbformat_minor": 2
}
