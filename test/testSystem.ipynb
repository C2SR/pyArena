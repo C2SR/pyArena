{
 "cells": [
  {
   "cell_type": "code",
   "execution_count": 1,
   "metadata": {},
   "outputs": [],
   "source": [
    "import sys\n",
    "sys.path.append('..')"
   ]
  },
  {
   "cell_type": "code",
   "execution_count": null,
   "metadata": {},
   "outputs": [],
   "source": [
    "# Test 1: Check the functionality of base class - DynamicSystem\n",
    "# Must get an error when you try to create an instance of base class - DynamicSystem\n",
    "\n",
    "import pyArena.core.system as pyASystem\n",
    "\n",
    "obj = pyASystem.DynamicSystem()"
   ]
  },
  {
   "cell_type": "code",
   "execution_count": null,
   "metadata": {},
   "outputs": [],
   "source": [
    "# Test 2: Check the functionality of InlineDynamicSystem without Initial Condition\n",
    "\n",
    "def unicycle(t, x, u):\n",
    "    return np.array([u[0]*np.cos(x[2]), u[0]*np.sin(x[2]), u[1]])\n",
    "\n",
    "nx = 3\n",
    "nu = 2\n",
    "\n",
    "kwargsSystem = {'nx':nx, 'nu':nu,\\\n",
    "                'inlineStateEquation': lambda t,x,u: unicycle(t,x,u)}\n",
    "\n",
    "obj = pyASystem.InlineDynamicSystem(**kwargsSystem)\n",
    "dir(obj)"
   ]
  },
  {
   "cell_type": "code",
   "execution_count": null,
   "metadata": {},
   "outputs": [],
   "source": [
    "# Test 3: Check the functionality of InlineControlSystem without Initial Condition\n",
    "\n",
    "def unicycle(t, x, u):\n",
    "    return np.array([u[0]*np.cos(x[2]), u[0]*np.sin(x[2]), u[1]])\n",
    "\n",
    "def dummyController(t,x):\n",
    "    pass\n",
    "\n",
    "nx = 3\n",
    "nu = 2\n",
    "\n",
    "kwargsSystem = {'nx':nx, 'nu':nu,\\\n",
    "                'inlineStateEquation': lambda t,x,u: unicycle(t,x,u),\\\n",
    "                'controller': lambda t,x: dummyController(t,x)}\n",
    "\n",
    "obj = pyASystem.InlineControlSystem(**kwargsSystem)\n",
    "dir(obj)"
   ]
  },
  {
   "cell_type": "code",
   "execution_count": 2,
   "metadata": {},
   "outputs": [
    {
     "ename": "TypeError",
     "evalue": "Can't instantiate abstract class StaticController with abstract methods computeInput",
     "output_type": "error",
     "traceback": [
      "\u001b[0;31m---------------------------------------------------------------------------\u001b[0m",
      "\u001b[0;31mTypeError\u001b[0m                                 Traceback (most recent call last)",
      "\u001b[0;32m<ipython-input-2-2bff8c9537be>\u001b[0m in \u001b[0;36m<module>\u001b[0;34m()\u001b[0m\n\u001b[1;32m      1\u001b[0m \u001b[0;32mimport\u001b[0m \u001b[0mpyArena\u001b[0m\u001b[0;34m.\u001b[0m\u001b[0mcore\u001b[0m\u001b[0;34m.\u001b[0m\u001b[0mcontroller\u001b[0m \u001b[0;32mas\u001b[0m \u001b[0mpyAController\u001b[0m\u001b[0;34m\u001b[0m\u001b[0m\n\u001b[1;32m      2\u001b[0m \u001b[0;34m\u001b[0m\u001b[0m\n\u001b[0;32m----> 3\u001b[0;31m \u001b[0mobj\u001b[0m \u001b[0;34m=\u001b[0m \u001b[0mpyAController\u001b[0m\u001b[0;34m.\u001b[0m\u001b[0mStaticController\u001b[0m\u001b[0;34m(\u001b[0m\u001b[0;34m)\u001b[0m\u001b[0;34m\u001b[0m\u001b[0m\n\u001b[0m",
      "\u001b[0;31mTypeError\u001b[0m: Can't instantiate abstract class StaticController with abstract methods computeInput"
     ]
    }
   ],
   "source": [
    "import pyArena.core.controller as pyAController\n",
    "\n",
    "obj = pyAController.StaticController()\n"
   ]
  },
  {
   "cell_type": "code",
   "execution_count": null,
   "metadata": {},
   "outputs": [],
   "source": []
  }
 ],
 "metadata": {
  "kernelspec": {
   "display_name": "Python 3",
   "language": "python",
   "name": "python3"
  },
  "language_info": {
   "codemirror_mode": {
    "name": "ipython",
    "version": 3
   },
   "file_extension": ".py",
   "mimetype": "text/x-python",
   "name": "python",
   "nbconvert_exporter": "python",
   "pygments_lexer": "ipython3",
   "version": "3.7.0"
  }
 },
 "nbformat": 4,
 "nbformat_minor": 2
}
